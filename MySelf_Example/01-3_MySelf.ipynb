{
 "cells": [
  {
   "cell_type": "markdown",
   "id": "aa160128",
   "metadata": {},
   "source": [
    "# 생선 분류작업(도미와 빙어)"
   ]
  },
  {
   "cell_type": "code",
   "execution_count": 28,
   "id": "754062a0",
   "metadata": {},
   "outputs": [],
   "source": [
    "# import 영역\n",
    "\n",
    "# 샘플데이터 섞기\n",
    "import random\n",
    "\n",
    "# 그래프 \n",
    "#import matplotlib as mpl # 한글폰트 관련\n",
    "import matplotlib.pyplot as plt\n",
    "\n",
    "# 사용할 알고리즘 : 사이킷런 K-NN(K-Nearest Neighbors, K-최근접이웃)\n",
    "from sklearn.neighbors import KNeighborsClassifier"
   ]
  },
  {
   "cell_type": "code",
   "execution_count": 29,
   "id": "183d5723",
   "metadata": {},
   "outputs": [],
   "source": [
    "# 대상 샘플 데이터 도미\n",
    "bleam_length = [33.0, 29.7, 35.0, 25.4, 30.0, 34.0, 32.0, 31.0, 29.0, 38.5, 36.0, 34.5, 33.5, 30.7, 41.0, 26.3, 32.0, 35.0, 37.0, 29.0, 31.5, 41.0, 33.0, 26.5, 29.7, 35.0, 32.0, 34.0, 38.5, 36.0, 39.5, 35.0, 31.0, 33.5, 30.0]\n",
    "bleam_weight = [700.0, 450.0, 680.0, 242.0, 450.0, 575.0, 600.0, 500.0, 363.0, 920.0, 714.0, 620.0, 650.0, 500.0, 975.0, 290.0, 600.0, 700.0, 1000.0, 430.0, 500.0, 950.0, 700.0, 340.0, 500.0, 725.0, 340.0, 685.0, 955.0, 850.0, 925.0, 720.0, 475.0, 610.0, 390.0]\n",
    "\n",
    "# 대상 샘플 데이터 빙어\n",
    "smelt_length = [11.8, 12.4, 10.6, 14.3, 12.0, 9.8, 13.0, 11.2, 10.5, 11.3, 12.2, 11.8, 11.0, 15.0]\n",
    "smelt_weight = [10.0, 13.4, 7.0, 19.7, 9.8, 6.7, 12.2, 9.8, 7.5, 8.7, 12.2, 9.9, 9.7, 19.9]"
   ]
  },
  {
   "cell_type": "code",
   "execution_count": 30,
   "id": "a0eb5d05",
   "metadata": {},
   "outputs": [
    {
     "data": {
      "image/png": "[encoded data removed]",
      "text/plain": [
       "<Figure size 640x480 with 1 Axes>"
      ]
     },
     "metadata": {},
     "output_type": "display_data"
    }
   ],
   "source": [
    "# 그래프 \n",
    "\n",
    "# 한글 폰트 문제로 나눔고딕 추가\n",
    "# mpl.rcParams['font.family'] = 'Nanum Gothic'\n",
    "\n",
    "# 좌표 찍기\n",
    "plt.scatter(bleam_length, bleam_weight)\n",
    "plt.scatter(smelt_length, smelt_weight)\n",
    "# plt.xlabel('길이')\n",
    "# plt.ylabel('무게')\n",
    "plt.xlabel('Length')\n",
    "plt.ylabel('Weight')\n",
    "plt.show()"
   ]
  },
  {
   "cell_type": "code",
   "execution_count": 31,
   "id": "0847eae3",
   "metadata": {},
   "outputs": [
    {
     "name": "stdout",
     "output_type": "stream",
     "text": [
      "[33.0, 29.7, 35.0, 25.4, 30.0, 34.0, 32.0, 31.0, 29.0, 38.5, 36.0, 34.5, 33.5, 30.7, 41.0, 26.3, 32.0, 35.0, 37.0, 29.0, 31.5, 41.0, 33.0, 26.5, 29.7, 35.0, 32.0, 34.0, 38.5, 36.0, 39.5, 35.0, 31.0, 33.5, 30.0, 11.8, 12.4, 10.6, 14.3, 12.0, 9.8, 13.0, 11.2, 10.5, 11.3, 12.2, 11.8, 11.0, 15.0]\n",
      "[700.0, 450.0, 680.0, 242.0, 450.0, 575.0, 600.0, 500.0, 363.0, 920.0, 714.0, 620.0, 650.0, 500.0, 975.0, 290.0, 600.0, 700.0, 1000.0, 430.0, 500.0, 950.0, 700.0, 340.0, 500.0, 725.0, 340.0, 685.0, 955.0, 850.0, 925.0, 720.0, 475.0, 610.0, 390.0, 10.0, 13.4, 7.0, 19.7, 9.8, 6.7, 12.2, 9.8, 7.5, 8.7, 12.2, 9.9, 9.7, 19.9]\n"
     ]
    }
   ],
   "source": [
    "# 사이킷런이 요구하는 데이터 방식인 한쌍의 데이터(2중 리스트) 로 변경\n",
    "# length, weight 각각의 데이터 합치기 \n",
    "fish_zip_length = bleam_length + smelt_length\n",
    "fish_zip_weight = bleam_weight + smelt_weight\n",
    "print(f'{fish_zip_length}')\n",
    "print(f'{fish_zip_weight}')"
   ]
  },
  {
   "cell_type": "code",
   "execution_count": 32,
   "id": "b052ba3e",
   "metadata": {},
   "outputs": [
    {
     "name": "stdout",
     "output_type": "stream",
     "text": [
      "[1] 길이 : 36.0, 무게 : 850.0\n",
      "[2] 길이 : 30.0, 무게 : 450.0\n",
      "[3] 길이 : 11.0, 무게 : 9.7\n",
      "[4] 길이 : 34.0, 무게 : 575.0\n",
      "[5] 길이 : 32.0, 무게 : 340.0\n",
      "[6] 길이 : 29.7, 무게 : 450.0\n",
      "[7] 길이 : 34.0, 무게 : 685.0\n",
      "[8] 길이 : 31.0, 무게 : 475.0\n",
      "[9] 길이 : 29.7, 무게 : 500.0\n",
      "[10] 길이 : 33.5, 무게 : 610.0\n",
      "[11] 길이 : 29.0, 무게 : 430.0\n",
      "[12] 길이 : 12.4, 무게 : 13.4\n",
      "[13] 길이 : 26.3, 무게 : 290.0\n",
      "[14] 길이 : 12.2, 무게 : 12.2\n",
      "[15] 길이 : 35.0, 무게 : 700.0\n",
      "[16] 길이 : 31.5, 무게 : 500.0\n",
      "[17] 길이 : 9.8, 무게 : 6.7\n",
      "[18] 길이 : 34.5, 무게 : 620.0\n",
      "[19] 길이 : 26.5, 무게 : 340.0\n",
      "[20] 길이 : 33.0, 무게 : 700.0\n",
      "[21] 길이 : 41.0, 무게 : 950.0\n",
      "[22] 길이 : 35.0, 무게 : 720.0\n",
      "[23] 길이 : 36.0, 무게 : 714.0\n",
      "[24] 길이 : 33.5, 무게 : 650.0\n",
      "[25] 길이 : 15.0, 무게 : 19.9\n",
      "[26] 길이 : 12.0, 무게 : 9.8\n",
      "[27] 길이 : 11.8, 무게 : 10.0\n",
      "[28] 길이 : 37.0, 무게 : 1000.0\n",
      "[29] 길이 : 32.0, 무게 : 600.0\n",
      "[30] 길이 : 30.7, 무게 : 500.0\n",
      "[31] 길이 : 32.0, 무게 : 600.0\n",
      "[32] 길이 : 38.5, 무게 : 955.0\n",
      "[33] 길이 : 14.3, 무게 : 19.7\n",
      "[34] 길이 : 10.6, 무게 : 7.0\n",
      "[35] 길이 : 25.4, 무게 : 242.0\n",
      "[36] 길이 : 11.2, 무게 : 9.8\n",
      "[37] 길이 : 11.3, 무게 : 8.7\n",
      "[38] 길이 : 13.0, 무게 : 12.2\n",
      "[39] 길이 : 41.0, 무게 : 975.0\n",
      "[40] 길이 : 30.0, 무게 : 390.0\n",
      "[41] 길이 : 11.8, 무게 : 9.9\n",
      "[42] 길이 : 29.0, 무게 : 363.0\n",
      "[43] 길이 : 35.0, 무게 : 680.0\n",
      "[44] 길이 : 10.5, 무게 : 7.5\n",
      "[45] 길이 : 38.5, 무게 : 920.0\n",
      "[46] 길이 : 35.0, 무게 : 725.0\n",
      "[47] 길이 : 31.0, 무게 : 500.0\n",
      "[48] 길이 : 39.5, 무게 : 925.0\n",
      "[49] 길이 : 33.0, 무게 : 700.0\n"
     ]
    }
   ],
   "source": [
    "# 테스트를 위해 샘플 섞기\n",
    "# 1. 튜플로 변환 경합\n",
    "combined = list(zip(fish_zip_length, fish_zip_weight))\n",
    "\n",
    "# 2. 섞어주기\n",
    "random.seed(31) # 랜덤코드 31번\n",
    "random.shuffle(combined)\n",
    "\n",
    "# 3. 셔플된 데이터 분리 (튜플형식으로 렌덤으로 섞인 데이터를 언패킹해서 분리 combined)\n",
    "shuffle_length, shuffle_weight = zip(*combined)\n",
    "\n",
    "# 4. 각각의 데이터 리스트로 변환\n",
    "fish_length = list(shuffle_length)\n",
    "fish_weight = list(shuffle_weight)\n",
    "\n",
    "# 그래프 좌표 찍기\n",
    "# plt.scatter(fish_length, fish_weight)\n",
    "# plt.xlabel('Length')\n",
    "# plt.ylabel('Weight')\n",
    "# plt.show()\n",
    "\n",
    "# 쌍이 맞는지 출력\n",
    "for i in range(len(fish_length)) :\n",
    "    print(f'[{i + 1}] 길이 : {fish_length[i]}, 무게 : {fish_weight[i]}')\n"
   ]
  },
  {
   "cell_type": "code",
   "execution_count": 33,
   "id": "09844557",
   "metadata": {},
   "outputs": [
    {
     "name": "stdout",
     "output_type": "stream",
     "text": [
      "[1, 1, 0, 1, 1, 1, 1, 1, 1, 1, 1, 0, 1, 0, 1, 1, 0, 1, 1, 1, 1, 1, 1, 1, 0, 0, 0, 1, 1, 1, 1, 1, 0, 0, 1, 0, 0, 0, 1, 1, 0, 1, 1, 0, 1, 1, 1, 1, 1]\n"
     ]
    }
   ],
   "source": [
    "# 샘플 데이터 훈련을 위한 타겟 예측값 설정\n",
    "fish_target = [1 if i >= 24 else 0 for i in fish_length]\n",
    "print(fish_target)"
   ]
  },
  {
   "cell_type": "code",
   "execution_count": 34,
   "id": "5a999bc8",
   "metadata": {},
   "outputs": [
    {
     "name": "stdout",
     "output_type": "stream",
     "text": [
      "[[36.0, 850.0], [30.0, 450.0], [11.0, 9.7], [34.0, 575.0], [32.0, 340.0], [29.7, 450.0], [34.0, 685.0], [31.0, 475.0], [29.7, 500.0], [33.5, 610.0], [29.0, 430.0], [12.4, 13.4], [26.3, 290.0], [12.2, 12.2], [35.0, 700.0], [31.5, 500.0], [9.8, 6.7], [34.5, 620.0], [26.5, 340.0], [33.0, 700.0], [41.0, 950.0], [35.0, 720.0], [36.0, 714.0], [33.5, 650.0], [15.0, 19.9], [12.0, 9.8], [11.8, 10.0], [37.0, 1000.0], [32.0, 600.0], [30.7, 500.0], [32.0, 600.0], [38.5, 955.0], [14.3, 19.7], [10.6, 7.0], [25.4, 242.0], [11.2, 9.8], [11.3, 8.7], [13.0, 12.2], [41.0, 975.0], [30.0, 390.0], [11.8, 9.9], [29.0, 363.0], [35.0, 680.0], [10.5, 7.5], [38.5, 920.0], [35.0, 725.0], [31.0, 500.0], [39.5, 925.0], [33.0, 700.0]]\n"
     ]
    }
   ],
   "source": [
    "# 사이킷런에서 요구하는 데이터 타입으로 변환(한쌍의 데이터 형식(2차원 리스트형식))\n",
    "fish_data = [[l, w] for l, w in zip(fish_length, fish_weight)]\n",
    "print(fish_data)"
   ]
  }
 ],
 "metadata": {
  "kernelspec": {
   "display_name": "my_dl_study_3_11_12",
   "language": "python",
   "name": "python3"
  },
  "language_info": {
   "codemirror_mode": {
    "name": "ipython",
    "version": 3
   },
   "file_extension": ".py",
   "mimetype": "text/x-python",
   "name": "python",
   "nbconvert_exporter": "python",
   "pygments_lexer": "ipython3",
   "version": "3.11.12"
  }
 },
 "nbformat": 4,
 "nbformat_minor": 5
}
