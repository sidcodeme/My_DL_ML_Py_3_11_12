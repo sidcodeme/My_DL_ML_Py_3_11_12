{
 "cells": [
  {
   "cell_type": "markdown",
   "id": "3833cfcb",
   "metadata": {},
   "source": [
    "### K-NN Regression (K-Nearest Neighbors Regression 최근접 이웃 회귀)"
   ]
  },
  {
   "cell_type": "markdown",
   "id": "a28fcb0f",
   "metadata": {},
   "source": [
    "![nn](Images/K_NN_R.jpg)"
   ]
  },
  {
   "cell_type": "markdown",
   "id": "5d4b2202",
   "metadata": {},
   "source": [
    " K-NN Regression (K-Nearest Neighbors Regression 최근접 이웃 회귀)\n",
    " - 최근접한 이웃의 평균값을 따라간다."
   ]
  },
  {
   "cell_type": "markdown",
   "id": "975c8562",
   "metadata": {},
   "source": [
    "## 농어의 무게를 예측하기"
   ]
  },
  {
   "cell_type": "code",
   "execution_count": 1,
   "id": "379a1e2e",
   "metadata": {},
   "outputs": [],
   "source": [
    "import numpy as np\n",
    "\n",
    "perch_length = np.array([8.4, 13.7, 15.0, 16.2, 17.4, 18.0, 18.7, 19.0, 19.6, 20.0,\n",
    "     21.0, 21.0, 21.0, 21.3, 22.0, 22.0, 22.0, 22.0, 22.0, 22.5,\n",
    "     22.5, 22.7, 23.0, 23.5, 24.0, 24.0, 24.6, 25.0, 25.6, 26.5,\n",
    "     27.3, 27.5, 27.5, 27.5, 28.0, 28.7, 30.0, 32.8, 34.5, 35.0,\n",
    "     36.5, 36.0, 37.0, 37.0, 39.0, 39.0, 39.0, 40.0, 40.0, 40.0,\n",
    "     40.0, 42.0, 43.0, 43.0, 43.5, 44.0])\n",
    "\n",
    "perch_weight = np.array([5.9, 32.0, 40.0, 51.5, 70.0, 100.0, 78.0, 80.0, 85.0, 85.0,\n",
    "     110.0, 115.0, 125.0, 130.0, 120.0, 120.0, 130.0, 135.0, 110.0,\n",
    "     130.0, 150.0, 145.0, 150.0, 170.0, 225.0, 145.0, 188.0, 180.0,\n",
    "     197.0, 218.0, 300.0, 260.0, 265.0, 250.0, 250.0, 300.0, 320.0,\n",
    "     514.0, 556.0, 840.0, 685.0, 700.0, 700.0, 690.0, 900.0, 650.0,\n",
    "     820.0, 850.0, 900.0, 1015.0, 820.0, 1100.0, 1000.0, 1100.0,\n",
    "     1000.0, 1000.0])"
   ]
  },
  {
   "cell_type": "code",
   "execution_count": 2,
   "id": "c05cf06a",
   "metadata": {},
   "outputs": [
    {
     "data": {
      "image/png": "[encoded data removed]",
      "text/plain": [
       "<Figure size 640x480 with 1 Axes>"
      ]
     },
     "metadata": {},
     "output_type": "display_data"
    }
   ],
   "source": [
    "import matplotlib as mpl\n",
    "import matplotlib.pyplot as plt\n",
    "\n",
    "mpl.rcParams['font.family'] = 'Nanum Gothic'\n",
    "\n",
    "plt.scatter(perch_length, perch_weight)\n",
    "plt.xlabel('길이')\n",
    "plt.ylabel('무게')\n",
    "plt.show();"
   ]
  },
  {
   "cell_type": "code",
   "execution_count": 3,
   "id": "0d33c5ac",
   "metadata": {},
   "outputs": [
    {
     "name": "stdout",
     "output_type": "stream",
     "text": [
      "max_score : 96.1551, score :96.1551 ==> seed : 0\n",
      "max_score : 98.0029, score :98.0029 ==> seed : 2\n",
      "max_score : 98.4592, score :98.4592 ==> seed : 8\n",
      "max_score : 98.5380, score :98.5380 ==> seed : 13\n",
      "max_score : 98.6927, score :98.6927 ==> seed : 29\n",
      "max_score : 99.7957, score :99.7957 ==> seed : 36\n",
      "max_score : 99.7957, good_seed : 36\n"
     ]
    }
   ],
   "source": [
    "from sklearn.neighbors import KNeighborsRegressor\n",
    "from sklearn.model_selection import train_test_split as tts\n",
    "\n",
    "# K-Nearest Nerighbors Regression (k-최근접이웃 회귀) 모델 호출\n",
    "knr = KNeighborsRegressor()\n",
    "\n",
    "# random_state의 민감도 모델/데이터의 취약점을 보안하기위해 안정성있는 랜덤 시드값 찾기\n",
    "max_score = 0\n",
    "good_seed = 0\n",
    "for seed in range(100) :\n",
    "    # 훈련과 테스트 세트 분리\n",
    "    tr_in, test_in, tr_target, test_target = tts(perch_length, perch_weight, random_state=seed, test_size=0.3)\n",
    "    \n",
    "    # 훈련과 테스트 세트를 훈련하기위해서 2차원 리스트로 변경\n",
    "    tr_in = tr_in.reshape(-1, 1)\n",
    "    test_in = test_in.reshape(-1, 1)\n",
    "    \n",
    "    # 훈련및 훈련 점수 \n",
    "    knr.fit(tr_in, tr_target)\n",
    "    score = knr.score(test_in, test_target)\n",
    "    \n",
    "    # 최적의 값이 나오는 시드를 찾아낸다.\n",
    "    # print(f'max_score : {max_score}, score :{score} ==> seed : {seed}')\n",
    "    if score >= max_score :\n",
    "        max_score = score\n",
    "        good_seed = seed\n",
    "        print(f'max_score : {max_score * 100:.4f}, score :{score * 100:.4f} ==> seed : {seed}')\n",
    "              \n",
    "print(f'max_score : {max_score * 100:.4f}, good_seed : {good_seed}')      \n"
   ]
  },
  {
   "cell_type": "code",
   "execution_count": 4,
   "id": "cafa80ae",
   "metadata": {},
   "outputs": [
    {
     "name": "stdout",
     "output_type": "stream",
     "text": [
      "Train input(42) :\n",
      "[[40. ]\n",
      " [23.5]\n",
      " [17.4]\n",
      " [19. ]\n",
      " [40. ]\n",
      " [21. ]\n",
      " [40. ]\n",
      " [27.5]\n",
      " [40. ]\n",
      " [16.2]\n",
      " [24. ]\n",
      " [24. ]\n",
      " [28.7]\n",
      " [39. ]\n",
      " [44. ]\n",
      " [34.5]\n",
      " [22.7]\n",
      " [42. ]\n",
      " [43. ]\n",
      " [21.3]\n",
      " [22.5]\n",
      " [22. ]\n",
      " [35. ]\n",
      " [13.7]\n",
      " [37. ]\n",
      " [23. ]\n",
      " [36. ]\n",
      " [39. ]\n",
      " [27.5]\n",
      " [25. ]\n",
      " [ 8.4]\n",
      " [30. ]\n",
      " [18.7]\n",
      " [32.8]\n",
      " [20. ]\n",
      " [39. ]\n",
      " [24.6]\n",
      " [27.5]\n",
      " [36.5]\n",
      " [27.3]\n",
      " [28. ]\n",
      " [18. ]] \n",
      "\n",
      "Test input(14)  : \n",
      "[[21. ]\n",
      " [19.6]\n",
      " [22.5]\n",
      " [21. ]\n",
      " [25.6]\n",
      " [26.5]\n",
      " [43. ]\n",
      " [22. ]\n",
      " [15. ]\n",
      " [22. ]\n",
      " [43.5]\n",
      " [22. ]\n",
      " [22. ]\n",
      " [37. ]]\n"
     ]
    },
    {
     "data": {
      "text/plain": [
       "0.9978250673482761"
      ]
     },
     "execution_count": 4,
     "metadata": {},
     "output_type": "execute_result"
    }
   ],
   "source": [
    "# 최상의 훈련세트 시드값 적용\n",
    "tr_in, test_in, tr_target, test_target = tts(perch_length, perch_weight, random_state=good_seed)\n",
    "\n",
    "# 훈련과 테스트 세트를 훈련하기위해서 2차원 리스트로 변경\n",
    "tr_in = tr_in.reshape(-1, 1)\n",
    "test_in = test_in.reshape(-1, 1)\n",
    "\n",
    "print(f'Train input({len(tr_in)}) :\\n{tr_in} \\n')\n",
    "print(f'Test input({len(test_in)})  : \\n{test_in}')\n",
    "    \n",
    "# 훈련\n",
    "knr.fit(tr_in, tr_target)\n",
    "\n",
    "# 정확도\n",
    "knr.score(test_in, test_target)"
   ]
  },
  {
   "cell_type": "code",
   "execution_count": 5,
   "id": "ebc786c9",
   "metadata": {},
   "outputs": [
    {
     "name": "stdout",
     "output_type": "stream",
     "text": [
      "평균 절대값 오차 범위 : 11.89g\n"
     ]
    }
   ],
   "source": [
    "from sklearn.metrics import mean_absolute_error\n",
    "\n",
    "# 해당 세트에 대한 예측 값을 만든다.\n",
    "# predict는 데이터를 추가 또는 업데이트가 아니고 예측값을 반환하는 것\n",
    "test_prediction = knr.predict(test_in)\n",
    "\n",
    "# 해당 세트의 평균 절대값 오차 계산\n",
    "mae = mean_absolute_error(test_target, test_prediction)\n",
    "print(f'평균 절대값 오차 범위 : {mae:.2f}g')"
   ]
  }
 ],
 "metadata": {
  "kernelspec": {
   "display_name": "my_dl_ml_study_3_11_12",
   "language": "python",
   "name": "python3"
  },
  "language_info": {
   "codemirror_mode": {
    "name": "ipython",
    "version": 3
   },
   "file_extension": ".py",
   "mimetype": "text/x-python",
   "name": "python",
   "nbconvert_exporter": "python",
   "pygments_lexer": "ipython3",
   "version": "3.11.12"
  }
 },
 "nbformat": 4,
 "nbformat_minor": 5
}
